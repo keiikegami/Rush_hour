{
 "cells": [
  {
   "cell_type": "code",
   "execution_count": 176,
   "metadata": {
    "collapsed": true
   },
   "outputs": [],
   "source": [
    "import numpy as np\n",
    "import matplotlib.pyplot as plt\n",
    "% matplotlib inline"
   ]
  },
  {
   "cell_type": "markdown",
   "metadata": {},
   "source": [
    "ベースとなるタイプの分布を条件を満たすように作成する。 Kは2で割って奇数となるやつを選ぶこと。\n",
    "\n",
    "これは状況1のシミュレーション"
   ]
  },
  {
   "cell_type": "code",
   "execution_count": 140,
   "metadata": {
    "collapsed": true
   },
   "outputs": [],
   "source": [
    "K = 14 # 後述するが、13グループということ\n",
    "u_1 = 1\n",
    "u_2 = 0.95\n",
    "alpha = -2\n",
    "const = (u_1- u_2)/alpha\n",
    "\n",
    "q0 = 0.01\n",
    "diff = (2/K - 2*q0)/(K/2 - 1)\n",
    "dist = [q0 + diff*i for i in range(int(K/2))]\n",
    "half_dist = dist[0::2]"
   ]
  },
  {
   "cell_type": "code",
   "execution_count": 141,
   "metadata": {
    "collapsed": true
   },
   "outputs": [],
   "source": [
    "def sigma_update(ind,d):\n",
    "    return (d[ind+1] - sigma[ind] * d[ind] + const)/d[ind+1]"
   ]
  },
  {
   "cell_type": "code",
   "execution_count": 142,
   "metadata": {
    "collapsed": false
   },
   "outputs": [],
   "source": [
    "sigma = np.ones(len(half_dist))\n",
    "for i in range(len(half_dist) - 1):\n",
    "    sigma[i + 1] = sigma_update(i, half_dist)"
   ]
  },
  {
   "cell_type": "code",
   "execution_count": 143,
   "metadata": {
    "collapsed": false
   },
   "outputs": [
    {
     "data": {
      "text/plain": [
       "array([ 1.        ,  0.31308411,  0.55440415,  0.42831541])"
      ]
     },
     "execution_count": 143,
     "metadata": {},
     "output_type": "execute_result"
    }
   ],
   "source": [
    "sigma"
   ]
  },
  {
   "cell_type": "code",
   "execution_count": 144,
   "metadata": {
    "collapsed": false
   },
   "outputs": [
    {
     "data": {
      "text/plain": [
       "[0.01,\n",
       " 0.030476190476190476,\n",
       " 0.05095238095238095,\n",
       " 0.07142857142857142,\n",
       " 0.09190476190476189,\n",
       " 0.11238095238095237,\n",
       " 0.13285714285714284]"
      ]
     },
     "execution_count": 144,
     "metadata": {},
     "output_type": "execute_result"
    }
   ],
   "source": [
    "dist"
   ]
  },
  {
   "cell_type": "code",
   "execution_count": 145,
   "metadata": {
    "collapsed": false
   },
   "outputs": [
    {
     "data": {
      "text/plain": [
       "-0.025000000000000022"
      ]
     },
     "execution_count": 145,
     "metadata": {},
     "output_type": "execute_result"
    }
   ],
   "source": [
    "const"
   ]
  },
  {
   "cell_type": "code",
   "execution_count": 146,
   "metadata": {
    "collapsed": false
   },
   "outputs": [
    {
     "data": {
      "text/plain": [
       "0.020476190476190474"
      ]
     },
     "execution_count": 146,
     "metadata": {},
     "output_type": "execute_result"
    }
   ],
   "source": [
    "diff"
   ]
  },
  {
   "cell_type": "code",
   "execution_count": 155,
   "metadata": {
    "collapsed": false
   },
   "outputs": [],
   "source": [
    "# この時、事前の分布と移動後に実現する分布とを書いてみる\n",
    "fullsigma = [1, 1, sigma[1], sigma[1], sigma[2], sigma[2], sigma[3]]\n",
    "realized_dist = [dist[i]*fullsigma[i]+dist[i+1]*(1-fullsigma[i+1]) for i in range(6)]\n",
    "realized_dist.append(dist[6]*fullsigma[6])"
   ]
  },
  {
   "cell_type": "code",
   "execution_count": 156,
   "metadata": {
    "collapsed": false
   },
   "outputs": [
    {
     "data": {
      "text/plain": [
       "[0.01,\n",
       " 0.065476190476190493,\n",
       " 0.065017801513128623,\n",
       " 0.063315531820204676,\n",
       " 0.10102886750555143,\n",
       " 0.13825684678016287,\n",
       " 0.056904761904761875]"
      ]
     },
     "execution_count": 156,
     "metadata": {},
     "output_type": "execute_result"
    }
   ],
   "source": [
    "realized_dist"
   ]
  },
  {
   "cell_type": "code",
   "execution_count": 174,
   "metadata": {
    "collapsed": false
   },
   "outputs": [],
   "source": [
    "# 一番多いはずのところが少ない問題は、両側のグループがかぶさって存在することにして解決する\n",
    "prior_dist = dist[0:int(K/2) -1] + [dist[int(K/2)-1]*2] + dist[::-1][1:int(K/2)]\n",
    "posterior_dist = realized_dist[0:int(K/2) -1] + [realized_dist[int(K/2)-1]*2] + realized_dist[::-1][1:int(K/2)]"
   ]
  },
  {
   "cell_type": "code",
   "execution_count": 179,
   "metadata": {
    "collapsed": false
   },
   "outputs": [
    {
     "data": {
      "text/plain": [
       "13"
      ]
     },
     "execution_count": 179,
     "metadata": {},
     "output_type": "execute_result"
    }
   ],
   "source": [
    "len(prior_dist)"
   ]
  },
  {
   "cell_type": "code",
   "execution_count": 201,
   "metadata": {
    "collapsed": false
   },
   "outputs": [
    {
     "data": {
      "image/png": "[encoded data removed]",
      "text/plain": [
       "<matplotlib.figure.Figure at 0x1202934a8>"
      ]
     },
     "metadata": {},
     "output_type": "display_data"
    }
   ],
   "source": [
    "# 全員firstを選んだ時の分布\n",
    "x = np.linspace(0,K, 200)\n",
    "for i in range(0, K-1):\n",
    "    plt.plot(x[(i<= x) & (x< i+1)], np.array([prior_dist[i]]*len(x[(i<= x) & (x< i+1)])), color = \"blue\")\n",
    "    plt.axvline(x = i, color = \"red\")\n",
    "plt.axvline(x = 13, color = \"red\")\n",
    "plt.ylim(0,0.3)\n",
    "plt.xlim(0,13)\n",
    "plt.show()"
   ]
  },
  {
   "cell_type": "code",
   "execution_count": 200,
   "metadata": {
    "collapsed": false
   },
   "outputs": [
    {
     "data": {
      "image/png": "[encoded data removed]",
      "text/plain": [
       "<matplotlib.figure.Figure at 0x1202f9630>"
      ]
     },
     "metadata": {},
     "output_type": "display_data"
    }
   ],
   "source": [
    "# 混合戦略ナッシュ均衡における乗車分布(かなり平準化されてる)\n",
    "for i in range(0, K-1):\n",
    "    plt.plot(x[(i<= x) & (x< i+1)], np.array([posterior_dist[i]]*len(x[(i<= x) & (x< i+1)])), color = \"blue\")\n",
    "    plt.axvline(x = i, color = \"red\")\n",
    "plt.axvline(x = 13, color = \"red\")\n",
    "plt.ylim(0,0.3)\n",
    "plt.xlim(0,13)\n",
    "plt.show()"
   ]
  },
  {
   "cell_type": "markdown",
   "metadata": {},
   "source": [
    "今は全員がfirstを選ぶのもナッシュ均衡を構成するケースを考えているので、上記の分布はどちらもナッシュ均衡として達成される。\n",
    "\n",
    "しかし、下の分布では明らかに混雑が緩和されており、より好ましい状態であると言える。"
   ]
  }
 ],
 "metadata": {
  "kernelspec": {
   "display_name": "Python 3",
   "language": "python",
   "name": "python3"
  },
  "language_info": {
   "codemirror_mode": {
    "name": "ipython",
    "version": 3
   },
   "file_extension": ".py",
   "mimetype": "text/x-python",
   "name": "python",
   "nbconvert_exporter": "python",
   "pygments_lexer": "ipython3",
   "version": "3.5.1"
  }
 },
 "nbformat": 4,
 "nbformat_minor": 2
}
